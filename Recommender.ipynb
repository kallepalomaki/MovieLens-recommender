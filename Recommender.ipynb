{
  "nbformat": 4,
  "nbformat_minor": 0,
  "metadata": {
    "colab": {
      "provenance": [],
      "authorship_tag": "ABX9TyNusmOKUVzr2uJ4xnSrgV5V",
      "include_colab_link": true
    },
    "kernelspec": {
      "name": "python3",
      "display_name": "Python 3"
    },
    "language_info": {
      "name": "python"
    },
    "accelerator": "GPU",
    "gpuClass": "standard"
  },
  "cells": [
    {
      "cell_type": "markdown",
      "metadata": {
        "id": "view-in-github",
        "colab_type": "text"
      },
      "source": [
        "<a href=\"https://colab.research.google.com/github/kallepalomaki/MovieLens-recommender/blob/main/Recommender.ipynb\" target=\"_parent\"><img src=\"https://colab.research.google.com/assets/colab-badge.svg\" alt=\"Open In Colab\"/></a>"
      ]
    },
    {
      "cell_type": "code",
      "execution_count": 1,
      "metadata": {
        "id": "QZHK4AIs_Zsn"
      },
      "outputs": [],
      "source": [
        "import torch\n",
        "import torch.nn as nn\n",
        "import torch.nn.functional as F\n",
        "import numpy as np\n",
        "import pandas as pd\n",
        "import matplotlib.pyplot as plt\n",
        "from datetime import datetime\n",
        "from sklearn.utils import shuffle\n",
        "from torch.utils.data import TensorDataset, DataLoader"
      ]
    },
    {
      "cell_type": "code",
      "source": [
        "np.std(np.random.randn(1,100)*0.01)"
      ],
      "metadata": {
        "colab": {
          "base_uri": "https://localhost:8080/"
        },
        "id": "qNcC4aRF4CCv",
        "outputId": "de07be3b-b6b7-4a4e-b37a-16949d0037b4"
      },
      "execution_count": 6,
      "outputs": [
        {
          "output_type": "execute_result",
          "data": {
            "text/plain": [
              "0.009950231744386764"
            ]
          },
          "metadata": {},
          "execution_count": 6
        }
      ]
    },
    {
      "cell_type": "code",
      "source": [
        "!wget -nc https://files.grouplens.org/datasets/movielens/ml-25m.zip\n",
        "!unzip ml-25m.zip"
      ],
      "metadata": {
        "colab": {
          "base_uri": "https://localhost:8080/"
        },
        "id": "Wv4U1VjG_vix",
        "outputId": "23c7b024-1901-4515-fdf0-de37c4384745"
      },
      "execution_count": 2,
      "outputs": [
        {
          "output_type": "stream",
          "name": "stdout",
          "text": [
            "--2022-11-27 21:01:16--  https://files.grouplens.org/datasets/movielens/ml-25m.zip\n",
            "Resolving files.grouplens.org (files.grouplens.org)... 128.101.65.152\n",
            "Connecting to files.grouplens.org (files.grouplens.org)|128.101.65.152|:443... connected.\n",
            "HTTP request sent, awaiting response... 200 OK\n",
            "Length: 261978986 (250M) [application/zip]\n",
            "Saving to: ‘ml-25m.zip’\n",
            "\n",
            "ml-25m.zip          100%[===================>] 249.84M  14.0MB/s    in 20s     \n",
            "\n",
            "2022-11-27 21:01:38 (12.4 MB/s) - ‘ml-25m.zip’ saved [261978986/261978986]\n",
            "\n",
            "Archive:  ml-25m.zip\n",
            "   creating: ml-25m/\n",
            "  inflating: ml-25m/tags.csv         \n",
            "  inflating: ml-25m/links.csv        \n",
            "  inflating: ml-25m/README.txt       \n",
            "  inflating: ml-25m/ratings.csv      \n",
            "  inflating: ml-25m/genome-tags.csv  \n",
            "  inflating: ml-25m/genome-scores.csv  \n",
            "  inflating: ml-25m/movies.csv       \n"
          ]
        }
      ]
    },
    {
      "cell_type": "code",
      "source": [
        "df=pd.read_csv('ml-25m/ratings.csv')\n",
        "df.head()"
      ],
      "metadata": {
        "colab": {
          "base_uri": "https://localhost:8080/",
          "height": 206
        },
        "id": "9b-fksxsAssH",
        "outputId": "a9564a1a-5ca8-4267-f406-a4f39c07640e"
      },
      "execution_count": 3,
      "outputs": [
        {
          "output_type": "execute_result",
          "data": {
            "text/plain": [
              "   userId  movieId  rating   timestamp\n",
              "0       1      296     5.0  1147880044\n",
              "1       1      306     3.5  1147868817\n",
              "2       1      307     5.0  1147868828\n",
              "3       1      665     5.0  1147878820\n",
              "4       1      899     3.5  1147868510"
            ],
            "text/html": [
              "\n",
              "  <div id=\"df-4db41ed8-9431-4679-9e9e-d869f352bc5d\">\n",
              "    <div class=\"colab-df-container\">\n",
              "      <div>\n",
              "<style scoped>\n",
              "    .dataframe tbody tr th:only-of-type {\n",
              "        vertical-align: middle;\n",
              "    }\n",
              "\n",
              "    .dataframe tbody tr th {\n",
              "        vertical-align: top;\n",
              "    }\n",
              "\n",
              "    .dataframe thead th {\n",
              "        text-align: right;\n",
              "    }\n",
              "</style>\n",
              "<table border=\"1\" class=\"dataframe\">\n",
              "  <thead>\n",
              "    <tr style=\"text-align: right;\">\n",
              "      <th></th>\n",
              "      <th>userId</th>\n",
              "      <th>movieId</th>\n",
              "      <th>rating</th>\n",
              "      <th>timestamp</th>\n",
              "    </tr>\n",
              "  </thead>\n",
              "  <tbody>\n",
              "    <tr>\n",
              "      <th>0</th>\n",
              "      <td>1</td>\n",
              "      <td>296</td>\n",
              "      <td>5.0</td>\n",
              "      <td>1147880044</td>\n",
              "    </tr>\n",
              "    <tr>\n",
              "      <th>1</th>\n",
              "      <td>1</td>\n",
              "      <td>306</td>\n",
              "      <td>3.5</td>\n",
              "      <td>1147868817</td>\n",
              "    </tr>\n",
              "    <tr>\n",
              "      <th>2</th>\n",
              "      <td>1</td>\n",
              "      <td>307</td>\n",
              "      <td>5.0</td>\n",
              "      <td>1147868828</td>\n",
              "    </tr>\n",
              "    <tr>\n",
              "      <th>3</th>\n",
              "      <td>1</td>\n",
              "      <td>665</td>\n",
              "      <td>5.0</td>\n",
              "      <td>1147878820</td>\n",
              "    </tr>\n",
              "    <tr>\n",
              "      <th>4</th>\n",
              "      <td>1</td>\n",
              "      <td>899</td>\n",
              "      <td>3.5</td>\n",
              "      <td>1147868510</td>\n",
              "    </tr>\n",
              "  </tbody>\n",
              "</table>\n",
              "</div>\n",
              "      <button class=\"colab-df-convert\" onclick=\"convertToInteractive('df-4db41ed8-9431-4679-9e9e-d869f352bc5d')\"\n",
              "              title=\"Convert this dataframe to an interactive table.\"\n",
              "              style=\"display:none;\">\n",
              "        \n",
              "  <svg xmlns=\"http://www.w3.org/2000/svg\" height=\"24px\"viewBox=\"0 0 24 24\"\n",
              "       width=\"24px\">\n",
              "    <path d=\"M0 0h24v24H0V0z\" fill=\"none\"/>\n",
              "    <path d=\"M18.56 5.44l.94 2.06.94-2.06 2.06-.94-2.06-.94-.94-2.06-.94 2.06-2.06.94zm-11 1L8.5 8.5l.94-2.06 2.06-.94-2.06-.94L8.5 2.5l-.94 2.06-2.06.94zm10 10l.94 2.06.94-2.06 2.06-.94-2.06-.94-.94-2.06-.94 2.06-2.06.94z\"/><path d=\"M17.41 7.96l-1.37-1.37c-.4-.4-.92-.59-1.43-.59-.52 0-1.04.2-1.43.59L10.3 9.45l-7.72 7.72c-.78.78-.78 2.05 0 2.83L4 21.41c.39.39.9.59 1.41.59.51 0 1.02-.2 1.41-.59l7.78-7.78 2.81-2.81c.8-.78.8-2.07 0-2.86zM5.41 20L4 18.59l7.72-7.72 1.47 1.35L5.41 20z\"/>\n",
              "  </svg>\n",
              "      </button>\n",
              "      \n",
              "  <style>\n",
              "    .colab-df-container {\n",
              "      display:flex;\n",
              "      flex-wrap:wrap;\n",
              "      gap: 12px;\n",
              "    }\n",
              "\n",
              "    .colab-df-convert {\n",
              "      background-color: #E8F0FE;\n",
              "      border: none;\n",
              "      border-radius: 50%;\n",
              "      cursor: pointer;\n",
              "      display: none;\n",
              "      fill: #1967D2;\n",
              "      height: 32px;\n",
              "      padding: 0 0 0 0;\n",
              "      width: 32px;\n",
              "    }\n",
              "\n",
              "    .colab-df-convert:hover {\n",
              "      background-color: #E2EBFA;\n",
              "      box-shadow: 0px 1px 2px rgba(60, 64, 67, 0.3), 0px 1px 3px 1px rgba(60, 64, 67, 0.15);\n",
              "      fill: #174EA6;\n",
              "    }\n",
              "\n",
              "    [theme=dark] .colab-df-convert {\n",
              "      background-color: #3B4455;\n",
              "      fill: #D2E3FC;\n",
              "    }\n",
              "\n",
              "    [theme=dark] .colab-df-convert:hover {\n",
              "      background-color: #434B5C;\n",
              "      box-shadow: 0px 1px 3px 1px rgba(0, 0, 0, 0.15);\n",
              "      filter: drop-shadow(0px 1px 2px rgba(0, 0, 0, 0.3));\n",
              "      fill: #FFFFFF;\n",
              "    }\n",
              "  </style>\n",
              "\n",
              "      <script>\n",
              "        const buttonEl =\n",
              "          document.querySelector('#df-4db41ed8-9431-4679-9e9e-d869f352bc5d button.colab-df-convert');\n",
              "        buttonEl.style.display =\n",
              "          google.colab.kernel.accessAllowed ? 'block' : 'none';\n",
              "\n",
              "        async function convertToInteractive(key) {\n",
              "          const element = document.querySelector('#df-4db41ed8-9431-4679-9e9e-d869f352bc5d');\n",
              "          const dataTable =\n",
              "            await google.colab.kernel.invokeFunction('convertToInteractive',\n",
              "                                                     [key], {});\n",
              "          if (!dataTable) return;\n",
              "\n",
              "          const docLinkHtml = 'Like what you see? Visit the ' +\n",
              "            '<a target=\"_blank\" href=https://colab.research.google.com/notebooks/data_table.ipynb>data table notebook</a>'\n",
              "            + ' to learn more about interactive tables.';\n",
              "          element.innerHTML = '';\n",
              "          dataTable['output_type'] = 'display_data';\n",
              "          await google.colab.output.renderOutput(dataTable, element);\n",
              "          const docLink = document.createElement('div');\n",
              "          docLink.innerHTML = docLinkHtml;\n",
              "          element.appendChild(docLink);\n",
              "        }\n",
              "      </script>\n",
              "    </div>\n",
              "  </div>\n",
              "  "
            ]
          },
          "metadata": {},
          "execution_count": 3
        }
      ]
    },
    {
      "cell_type": "code",
      "source": [
        "df.userId=pd.Categorical(df.userId)\n",
        "df.userId=df.userId.cat.codes\n",
        "user_ids=df.userId.values"
      ],
      "metadata": {
        "id": "BGIWR13-BLG4"
      },
      "execution_count": 4,
      "outputs": []
    },
    {
      "cell_type": "code",
      "source": [
        "df.movieId=pd.Categorical(df.movieId)\n",
        "df.movieId=df.movieId.cat.codes\n",
        "movie_ids=df.movieId.values"
      ],
      "metadata": {
        "id": "dUnI__8ADH2c"
      },
      "execution_count": 5,
      "outputs": []
    },
    {
      "cell_type": "code",
      "source": [
        "ratings=df.rating.values\n",
        "# keep rmse scaling but center\n",
        "rating_mean=ratings.mean()\n",
        "ratings-=rating_mean\n",
        "np.mean(ratings)\n"
      ],
      "metadata": {
        "colab": {
          "base_uri": "https://localhost:8080/"
        },
        "id": "7cCt2xoyDrGj",
        "outputId": "e4e49a14-6328-41a2-acfe-b6d43c38c8f7"
      },
      "execution_count": 6,
      "outputs": [
        {
          "output_type": "execute_result",
          "data": {
            "text/plain": [
              "-3.427872505066647e-17"
            ]
          },
          "metadata": {},
          "execution_count": 6
        }
      ]
    },
    {
      "cell_type": "code",
      "source": [
        "num_users=len(set(user_ids))\n",
        "num_movies=len(set(movie_ids))"
      ],
      "metadata": {
        "id": "LSXuJ9MTFvrs"
      },
      "execution_count": 7,
      "outputs": []
    },
    {
      "cell_type": "code",
      "source": [
        "# Embedding dim\n",
        "embedding_dim=10"
      ],
      "metadata": {
        "id": "Cw-_6O-KGTar"
      },
      "execution_count": 8,
      "outputs": []
    },
    {
      "cell_type": "code",
      "source": [
        "class Model(nn.Module):\n",
        "  def __init__(self, num_users, num_movies, embedding_dim, num_hidden=512):\n",
        "    super(Model, self).__init__()\n",
        "    self.num_users=num_users\n",
        "    self.num_movies=num_movies\n",
        "    self.embedding_dim=embedding_dim\n",
        "\n",
        "    self.gen_user_embedding=nn.Embedding(self.num_users, self.embedding_dim)\n",
        "    self.gen_movie_embedding=nn.Embedding(self.num_movies, self.embedding_dim)\n",
        "    nn.init.normal_(self.gen_user_embedding.weight, 0.0 , 0.01)\n",
        "    nn.init.normal_(self.gen_movie_embedding.weight, 0.0 , 0.01)\n",
        "    self.linear_stack = nn.Sequential(\n",
        "            nn.Linear(2* self.embedding_dim, num_hidden),\n",
        "            nn.ReLU(),\n",
        "            nn.Linear(num_hidden, 1),\n",
        "        )\n",
        "    \n",
        "  def forward(self, user_ids, movie_ids):\n",
        "    user_embedding=self.gen_user_embedding(user_ids)\n",
        "    movie_embedding=self.gen_movie_embedding(movie_ids)\n",
        "    embeddings=torch.cat((user_embedding, movie_embedding),1)\n",
        "    logits=self.linear_stack(embeddings)\n",
        "    \n",
        "    return logits"
      ],
      "metadata": {
        "id": "bHeIQeIJGdry"
      },
      "execution_count": 15,
      "outputs": []
    },
    {
      "cell_type": "code",
      "source": [
        "device=torch.device(\"cuda:0\" if torch.cuda.is_available() else \"cpu\")\n",
        "print(device)"
      ],
      "metadata": {
        "colab": {
          "base_uri": "https://localhost:8080/"
        },
        "id": "byXodNsGLHJn",
        "outputId": "3080357a-26e8-4744-e28e-454faadfa6ac"
      },
      "execution_count": 16,
      "outputs": [
        {
          "output_type": "stream",
          "name": "stdout",
          "text": [
            "cuda:0\n"
          ]
        }
      ]
    },
    {
      "cell_type": "code",
      "source": [
        "model=Model(num_users=num_users, num_movies=num_movies, num_hidden=512, embedding_dim=embedding_dim)\n",
        "model.to(device)"
      ],
      "metadata": {
        "colab": {
          "base_uri": "https://localhost:8080/"
        },
        "id": "Djcn9FpOLSfs",
        "outputId": "f87d4f5e-afa2-475f-e7f4-ba155b01df17"
      },
      "execution_count": 17,
      "outputs": [
        {
          "output_type": "execute_result",
          "data": {
            "text/plain": [
              "Model(\n",
              "  (gen_user_embedding): Embedding(162541, 10)\n",
              "  (gen_movie_embedding): Embedding(59047, 10)\n",
              "  (linear_stack): Sequential(\n",
              "    (0): Linear(in_features=20, out_features=512, bias=True)\n",
              "    (1): ReLU()\n",
              "    (2): Linear(in_features=512, out_features=1, bias=True)\n",
              "  )\n",
              ")"
            ]
          },
          "metadata": {},
          "execution_count": 17
        }
      ]
    },
    {
      "cell_type": "code",
      "source": [
        "criterion=nn.MSELoss()\n",
        "optimizer=torch.optim.Adam(model.parameters())"
      ],
      "metadata": {
        "id": "rUGXYhYZJjD5"
      },
      "execution_count": 18,
      "outputs": []
    },
    {
      "cell_type": "code",
      "source": [
        "user_ids, movie_ids, ratings = shuffle(user_ids, movie_ids, ratings)\n",
        "user_ids=torch.from_numpy(user_ids).long()\n",
        "movie_ids=torch.from_numpy(movie_ids).long()\n",
        "ratings=torch.from_numpy(ratings).float()"
      ],
      "metadata": {
        "id": "RS97AtU3OgDC"
      },
      "execution_count": 19,
      "outputs": []
    },
    {
      "cell_type": "code",
      "source": [
        "print(user_ids.shape, movie_ids.shape, ratings.shape)\n"
      ],
      "metadata": {
        "colab": {
          "base_uri": "https://localhost:8080/"
        },
        "id": "Vgq0l9wmPFN5",
        "outputId": "9601106c-3715-4f74-8409-c1d210c47d64"
      },
      "execution_count": 20,
      "outputs": [
        {
          "output_type": "stream",
          "name": "stdout",
          "text": [
            "torch.Size([25000095]) torch.Size([25000095]) torch.Size([25000095])\n"
          ]
        }
      ]
    },
    {
      "cell_type": "code",
      "source": [
        "train_len=int(0.8*len(ratings))"
      ],
      "metadata": {
        "id": "h35217_7PPKH"
      },
      "execution_count": 21,
      "outputs": []
    },
    {
      "cell_type": "code",
      "source": [
        "train_data=TensorDataset(user_ids[:train_len], movie_ids[:train_len], ratings[:train_len])\n",
        "test_data=TensorDataset(user_ids[train_len:], movie_ids[train_len:], ratings[train_len:])"
      ],
      "metadata": {
        "id": "bGNqyDAOPh2s"
      },
      "execution_count": 22,
      "outputs": []
    },
    {
      "cell_type": "code",
      "source": [
        "batch_size=512\n",
        "train_loader=DataLoader(dataset=train_data,\n",
        "                        batch_size=batch_size,\n",
        "                        shuffle=True)\n",
        "test_loader=DataLoader(dataset=test_data,\n",
        "                        batch_size=batch_size,\n",
        "                        shuffle=False)"
      ],
      "metadata": {
        "id": "8iUKrSvYRzRL"
      },
      "execution_count": 23,
      "outputs": []
    },
    {
      "cell_type": "code",
      "source": [
        "def train(model, criterion, optimizer, train_loader, test_loader, epochs):\n",
        "  train_losses=np.zeros(epochs)\n",
        "  test_losses=np.zeros(epochs)\n",
        "\n",
        "  for it in range(epochs):\n",
        "    t0=datetime.now()\n",
        "    train_loss=[]\n",
        "    for users, movies, targets in train_loader:\n",
        "      users, movies, targets=users.to(device), movies.to(device), targets.to(device)\n",
        "      model.zero_grad()\n",
        "      pred_ratings=model(users, movies)\n",
        "      #print(pred_ratings.shape, targets.shape)\n",
        "      loss=criterion(pred_ratings, targets.reshape(-1,1))\n",
        "      loss.backward()\n",
        "      optimizer.step()\n",
        "      train_loss.append(loss.item())\n",
        "    train_losses[it]=np.mean(train_loss)\n",
        "    test_loss=[]  \n",
        "    for users, movies, targets in test_loader:\n",
        "      users, movies, targets=users.to(device), movies.to(device), targets.to(device)\n",
        "      model.zero_grad()\n",
        "      pred_ratings=model(users, movies)\n",
        "      loss=criterion(pred_ratings, targets.reshape(-1,1))\n",
        "      test_loss.append(loss.item())\n",
        "    test_losses[it]=np.mean(test_loss)\n",
        "    print(\"iteration: \", it, \"/\", epochs, \" train loss: \", train_losses[it], \"test loss: \", test_losses[it])\n",
        "  \n",
        "  return train_losses, test_losses \n",
        "\n"
      ],
      "metadata": {
        "id": "TpIJACGrRhl1"
      },
      "execution_count": 24,
      "outputs": []
    },
    {
      "cell_type": "code",
      "source": [
        "train_losses, test_losses=train(model, criterion, optimizer, train_loader, test_loader, 25 )"
      ],
      "metadata": {
        "colab": {
          "base_uri": "https://localhost:8080/"
        },
        "id": "5_1qP1J4VUwL",
        "outputId": "0aacb72b-d809-416b-884f-9a68ff6017a7"
      },
      "execution_count": 25,
      "outputs": [
        {
          "output_type": "stream",
          "name": "stdout",
          "text": [
            "iteration:  0 / 25  train loss:  0.7259126937125705 test loss:  0.6826610095141341\n",
            "iteration:  1 / 25  train loss:  0.6511603831127944 test loss:  0.6472043442922661\n",
            "iteration:  2 / 25  train loss:  0.6155260495563606 test loss:  0.6342818051509478\n",
            "iteration:  3 / 25  train loss:  0.5947637924258312 test loss:  0.6265320959526717\n",
            "iteration:  4 / 25  train loss:  0.5810392467605993 test loss:  0.6219978274080613\n",
            "iteration:  5 / 25  train loss:  0.5715355795823133 test loss:  0.6204027089029215\n",
            "iteration:  6 / 25  train loss:  0.5646246158675085 test loss:  0.6191173012282745\n",
            "iteration:  7 / 25  train loss:  0.5594803025483066 test loss:  0.6169634102621504\n",
            "iteration:  8 / 25  train loss:  0.5553292264904908 test loss:  0.6165917692841405\n",
            "iteration:  9 / 25  train loss:  0.5519349530357933 test loss:  0.6177916905106322\n",
            "iteration:  10 / 25  train loss:  0.5491185014711695 test loss:  0.6176295234010573\n",
            "iteration:  11 / 25  train loss:  0.5467299921316744 test loss:  0.617340577569087\n",
            "iteration:  12 / 25  train loss:  0.54462142679343 test loss:  0.6178670762480221\n",
            "iteration:  13 / 25  train loss:  0.5427520054072349 test loss:  0.6171530228937451\n",
            "iteration:  14 / 25  train loss:  0.5411316286543134 test loss:  0.6179862576974554\n",
            "iteration:  15 / 25  train loss:  0.5396313362461177 test loss:  0.618970977547177\n",
            "iteration:  16 / 25  train loss:  0.5382939670264005 test loss:  0.6193750890220943\n",
            "iteration:  17 / 25  train loss:  0.5371034158828563 test loss:  0.6188618413754572\n",
            "iteration:  18 / 25  train loss:  0.5359708685294868 test loss:  0.6199847474593548\n",
            "iteration:  19 / 25  train loss:  0.5349070490073387 test loss:  0.6203906096299847\n",
            "iteration:  20 / 25  train loss:  0.5339082941758915 test loss:  0.6198774342675593\n",
            "iteration:  21 / 25  train loss:  0.5330832132612496 test loss:  0.6204149949606779\n",
            "iteration:  22 / 25  train loss:  0.5321999453373427 test loss:  0.6213131713197048\n",
            "iteration:  23 / 25  train loss:  0.5314276264754656 test loss:  0.6208212621999817\n",
            "iteration:  24 / 25  train loss:  0.5306936346872414 test loss:  0.6218697571031827\n"
          ]
        }
      ]
    },
    {
      "cell_type": "code",
      "source": [
        "plt.plot(train_losses)\n",
        "plt.plot(test_losses)"
      ],
      "metadata": {
        "id": "JLRjMeVmaKo0",
        "colab": {
          "base_uri": "https://localhost:8080/",
          "height": 282
        },
        "outputId": "0af6356c-ea0a-440e-9185-4691b5242867"
      },
      "execution_count": 26,
      "outputs": [
        {
          "data": {
            "text/plain": [
              "[<matplotlib.lines.Line2D at 0x7f60e46d0ad0>]"
            ]
          },
          "execution_count": 26,
          "metadata": {},
          "output_type": "execute_result"
        },
        {
          "output_type": "display_data",
          "data": {
            "text/plain": [
              "<Figure size 432x288 with 1 Axes>"
            ],
            "image/png": "[encoded data removed]"
          },
          "metadata": {
            "needs_background": "light"
          }
        }
      ]
    },
    {
      "cell_type": "markdown",
      "source": [
        "![Screenshot from 2022-11-28 09-57-38.png](data:image/png;base64,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)\n",
        "\n",
        "Kuvakaappaus 25 epochs ja ao. malli. Punainen käyrä eli testidatan virhe alkaa kasvaa joten vaikuttaa siltä, että tällä kofiguraatiolla on ylioppimista.\n",
        "\n",
        " Model(\n",
        "  (gen_user_embedding): Embedding(162541, 10)\n",
        "  (gen_movie_embedding): Embedding(59047, 10)\n",
        "  (linear_stack): Sequential(\n",
        "    (0): Linear(in_features=20, out_features=512, bias=True)\n",
        "    (1): ReLU()\n",
        "    (2): Linear(in_features=512, out_features=1, bias=True)\n",
        "  )\n",
        ") "
      ],
      "metadata": {
        "id": "b2ji9AAXOSLr"
      }
    }
  ]
}