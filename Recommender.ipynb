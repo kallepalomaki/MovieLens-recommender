{
  "nbformat": 4,
  "nbformat_minor": 0,
  "metadata": {
    "colab": {
      "provenance": [],
      "authorship_tag": "ABX9TyOUE6CzX1erzIOfTcBcNZlf",
      "include_colab_link": true
    },
    "kernelspec": {
      "name": "python3",
      "display_name": "Python 3"
    },
    "language_info": {
      "name": "python"
    },
    "accelerator": "GPU",
    "gpuClass": "standard"
  },
  "cells": [
    {
      "cell_type": "markdown",
      "metadata": {
        "id": "view-in-github",
        "colab_type": "text"
      },
      "source": [
        "<a href=\"https://colab.research.google.com/github/kallepalomaki/MovieLens-recommender/blob/main/Recommender.ipynb\" target=\"_parent\"><img src=\"https://colab.research.google.com/assets/colab-badge.svg\" alt=\"Open In Colab\"/></a>"
      ]
    },
    {
      "cell_type": "code",
      "execution_count": 1,
      "metadata": {
        "id": "QZHK4AIs_Zsn"
      },
      "outputs": [],
      "source": [
        "import torch\n",
        "import torch.nn as nn\n",
        "import torch.nn.functional as F\n",
        "import numpy as np\n",
        "import pandas as pd\n",
        "import matplotlib.pyplot as plt\n",
        "from datetime import datetime\n",
        "from sklearn.utils import shuffle\n",
        "from torch.utils.data import TensorDataset, DataLoader"
      ]
    },
    {
      "cell_type": "code",
      "source": [
        "!wget -nc https://files.grouplens.org/datasets/movielens/ml-25m.zip\n",
        "!unzip ml-25m.zip"
      ],
      "metadata": {
        "colab": {
          "base_uri": "https://localhost:8080/"
        },
        "id": "Wv4U1VjG_vix",
        "outputId": "55062dbe-0b7b-454e-bd1f-a400ba3061f7"
      },
      "execution_count": 2,
      "outputs": [
        {
          "output_type": "stream",
          "name": "stdout",
          "text": [
            "--2022-11-27 19:14:35--  https://files.grouplens.org/datasets/movielens/ml-25m.zip\n",
            "Resolving files.grouplens.org (files.grouplens.org)... 128.101.65.152\n",
            "Connecting to files.grouplens.org (files.grouplens.org)|128.101.65.152|:443... connected.\n",
            "HTTP request sent, awaiting response... 200 OK\n",
            "Length: 261978986 (250M) [application/zip]\n",
            "Saving to: ‘ml-25m.zip’\n",
            "\n",
            "ml-25m.zip          100%[===================>] 249.84M  13.8MB/s    in 21s     \n",
            "\n",
            "2022-11-27 19:14:57 (12.1 MB/s) - ‘ml-25m.zip’ saved [261978986/261978986]\n",
            "\n",
            "Archive:  ml-25m.zip\n",
            "   creating: ml-25m/\n",
            "  inflating: ml-25m/tags.csv         \n",
            "  inflating: ml-25m/links.csv        \n",
            "  inflating: ml-25m/README.txt       \n",
            "  inflating: ml-25m/ratings.csv      \n",
            "  inflating: ml-25m/genome-tags.csv  \n",
            "  inflating: ml-25m/genome-scores.csv  \n",
            "  inflating: ml-25m/movies.csv       \n"
          ]
        }
      ]
    },
    {
      "cell_type": "code",
      "source": [
        "df=pd.read_csv('ml-25m/ratings.csv')\n",
        "df.head()"
      ],
      "metadata": {
        "colab": {
          "base_uri": "https://localhost:8080/",
          "height": 206
        },
        "id": "9b-fksxsAssH",
        "outputId": "efc0e4df-d941-4fd4-a0f6-16c4fe0bc641"
      },
      "execution_count": 3,
      "outputs": [
        {
          "output_type": "execute_result",
          "data": {
            "text/plain": [
              "   userId  movieId  rating   timestamp\n",
              "0       1      296     5.0  1147880044\n",
              "1       1      306     3.5  1147868817\n",
              "2       1      307     5.0  1147868828\n",
              "3       1      665     5.0  1147878820\n",
              "4       1      899     3.5  1147868510"
            ],
            "text/html": [
              "\n",
              "  <div id=\"df-beb85dc2-9746-44c5-8331-527563d4eff5\">\n",
              "    <div class=\"colab-df-container\">\n",
              "      <div>\n",
              "<style scoped>\n",
              "    .dataframe tbody tr th:only-of-type {\n",
              "        vertical-align: middle;\n",
              "    }\n",
              "\n",
              "    .dataframe tbody tr th {\n",
              "        vertical-align: top;\n",
              "    }\n",
              "\n",
              "    .dataframe thead th {\n",
              "        text-align: right;\n",
              "    }\n",
              "</style>\n",
              "<table border=\"1\" class=\"dataframe\">\n",
              "  <thead>\n",
              "    <tr style=\"text-align: right;\">\n",
              "      <th></th>\n",
              "      <th>userId</th>\n",
              "      <th>movieId</th>\n",
              "      <th>rating</th>\n",
              "      <th>timestamp</th>\n",
              "    </tr>\n",
              "  </thead>\n",
              "  <tbody>\n",
              "    <tr>\n",
              "      <th>0</th>\n",
              "      <td>1</td>\n",
              "      <td>296</td>\n",
              "      <td>5.0</td>\n",
              "      <td>1147880044</td>\n",
              "    </tr>\n",
              "    <tr>\n",
              "      <th>1</th>\n",
              "      <td>1</td>\n",
              "      <td>306</td>\n",
              "      <td>3.5</td>\n",
              "      <td>1147868817</td>\n",
              "    </tr>\n",
              "    <tr>\n",
              "      <th>2</th>\n",
              "      <td>1</td>\n",
              "      <td>307</td>\n",
              "      <td>5.0</td>\n",
              "      <td>1147868828</td>\n",
              "    </tr>\n",
              "    <tr>\n",
              "      <th>3</th>\n",
              "      <td>1</td>\n",
              "      <td>665</td>\n",
              "      <td>5.0</td>\n",
              "      <td>1147878820</td>\n",
              "    </tr>\n",
              "    <tr>\n",
              "      <th>4</th>\n",
              "      <td>1</td>\n",
              "      <td>899</td>\n",
              "      <td>3.5</td>\n",
              "      <td>1147868510</td>\n",
              "    </tr>\n",
              "  </tbody>\n",
              "</table>\n",
              "</div>\n",
              "      <button class=\"colab-df-convert\" onclick=\"convertToInteractive('df-beb85dc2-9746-44c5-8331-527563d4eff5')\"\n",
              "              title=\"Convert this dataframe to an interactive table.\"\n",
              "              style=\"display:none;\">\n",
              "        \n",
              "  <svg xmlns=\"http://www.w3.org/2000/svg\" height=\"24px\"viewBox=\"0 0 24 24\"\n",
              "       width=\"24px\">\n",
              "    <path d=\"M0 0h24v24H0V0z\" fill=\"none\"/>\n",
              "    <path d=\"M18.56 5.44l.94 2.06.94-2.06 2.06-.94-2.06-.94-.94-2.06-.94 2.06-2.06.94zm-11 1L8.5 8.5l.94-2.06 2.06-.94-2.06-.94L8.5 2.5l-.94 2.06-2.06.94zm10 10l.94 2.06.94-2.06 2.06-.94-2.06-.94-.94-2.06-.94 2.06-2.06.94z\"/><path d=\"M17.41 7.96l-1.37-1.37c-.4-.4-.92-.59-1.43-.59-.52 0-1.04.2-1.43.59L10.3 9.45l-7.72 7.72c-.78.78-.78 2.05 0 2.83L4 21.41c.39.39.9.59 1.41.59.51 0 1.02-.2 1.41-.59l7.78-7.78 2.81-2.81c.8-.78.8-2.07 0-2.86zM5.41 20L4 18.59l7.72-7.72 1.47 1.35L5.41 20z\"/>\n",
              "  </svg>\n",
              "      </button>\n",
              "      \n",
              "  <style>\n",
              "    .colab-df-container {\n",
              "      display:flex;\n",
              "      flex-wrap:wrap;\n",
              "      gap: 12px;\n",
              "    }\n",
              "\n",
              "    .colab-df-convert {\n",
              "      background-color: #E8F0FE;\n",
              "      border: none;\n",
              "      border-radius: 50%;\n",
              "      cursor: pointer;\n",
              "      display: none;\n",
              "      fill: #1967D2;\n",
              "      height: 32px;\n",
              "      padding: 0 0 0 0;\n",
              "      width: 32px;\n",
              "    }\n",
              "\n",
              "    .colab-df-convert:hover {\n",
              "      background-color: #E2EBFA;\n",
              "      box-shadow: 0px 1px 2px rgba(60, 64, 67, 0.3), 0px 1px 3px 1px rgba(60, 64, 67, 0.15);\n",
              "      fill: #174EA6;\n",
              "    }\n",
              "\n",
              "    [theme=dark] .colab-df-convert {\n",
              "      background-color: #3B4455;\n",
              "      fill: #D2E3FC;\n",
              "    }\n",
              "\n",
              "    [theme=dark] .colab-df-convert:hover {\n",
              "      background-color: #434B5C;\n",
              "      box-shadow: 0px 1px 3px 1px rgba(0, 0, 0, 0.15);\n",
              "      filter: drop-shadow(0px 1px 2px rgba(0, 0, 0, 0.3));\n",
              "      fill: #FFFFFF;\n",
              "    }\n",
              "  </style>\n",
              "\n",
              "      <script>\n",
              "        const buttonEl =\n",
              "          document.querySelector('#df-beb85dc2-9746-44c5-8331-527563d4eff5 button.colab-df-convert');\n",
              "        buttonEl.style.display =\n",
              "          google.colab.kernel.accessAllowed ? 'block' : 'none';\n",
              "\n",
              "        async function convertToInteractive(key) {\n",
              "          const element = document.querySelector('#df-beb85dc2-9746-44c5-8331-527563d4eff5');\n",
              "          const dataTable =\n",
              "            await google.colab.kernel.invokeFunction('convertToInteractive',\n",
              "                                                     [key], {});\n",
              "          if (!dataTable) return;\n",
              "\n",
              "          const docLinkHtml = 'Like what you see? Visit the ' +\n",
              "            '<a target=\"_blank\" href=https://colab.research.google.com/notebooks/data_table.ipynb>data table notebook</a>'\n",
              "            + ' to learn more about interactive tables.';\n",
              "          element.innerHTML = '';\n",
              "          dataTable['output_type'] = 'display_data';\n",
              "          await google.colab.output.renderOutput(dataTable, element);\n",
              "          const docLink = document.createElement('div');\n",
              "          docLink.innerHTML = docLinkHtml;\n",
              "          element.appendChild(docLink);\n",
              "        }\n",
              "      </script>\n",
              "    </div>\n",
              "  </div>\n",
              "  "
            ]
          },
          "metadata": {},
          "execution_count": 3
        }
      ]
    },
    {
      "cell_type": "code",
      "source": [
        "df.userId=pd.Categorical(df.userId)\n",
        "df.userId=df.userId.cat.codes\n",
        "user_ids=df.userId.values"
      ],
      "metadata": {
        "id": "BGIWR13-BLG4"
      },
      "execution_count": 4,
      "outputs": []
    },
    {
      "cell_type": "code",
      "source": [
        "df.movieId=pd.Categorical(df.movieId)\n",
        "df.movieId=df.movieId.cat.codes\n",
        "movie_ids=df.movieId.values"
      ],
      "metadata": {
        "id": "dUnI__8ADH2c"
      },
      "execution_count": 5,
      "outputs": []
    },
    {
      "cell_type": "code",
      "source": [
        "ratings=df.rating.values\n",
        "# keep rmse scaling but center\n",
        "rating_mean=ratings.mean()\n",
        "ratings-=rating_mean\n",
        "np.mean(ratings)\n"
      ],
      "metadata": {
        "colab": {
          "base_uri": "https://localhost:8080/"
        },
        "id": "7cCt2xoyDrGj",
        "outputId": "525564f0-2ec4-4bd8-95d0-03ac11e045ec"
      },
      "execution_count": 6,
      "outputs": [
        {
          "output_type": "execute_result",
          "data": {
            "text/plain": [
              "-3.427872505066647e-17"
            ]
          },
          "metadata": {},
          "execution_count": 6
        }
      ]
    },
    {
      "cell_type": "code",
      "source": [
        "num_users=len(set(user_ids))\n",
        "num_movies=len(set(movie_ids))"
      ],
      "metadata": {
        "id": "LSXuJ9MTFvrs"
      },
      "execution_count": 7,
      "outputs": []
    },
    {
      "cell_type": "code",
      "source": [
        "# Embedding dim\n",
        "embedding_dim=10"
      ],
      "metadata": {
        "id": "Cw-_6O-KGTar"
      },
      "execution_count": 8,
      "outputs": []
    },
    {
      "cell_type": "code",
      "source": [
        "class Model(nn.Module):\n",
        "  def __init__(self, num_users, num_movies, embedding_dim, num_hidden=512):\n",
        "    super(Model, self).__init__()\n",
        "    self.num_users=num_users\n",
        "    self.num_movies=num_movies\n",
        "    self.embedding_dim=embedding_dim\n",
        "\n",
        "    self.gen_user_embedding=nn.Embedding(self.num_users, self.embedding_dim)\n",
        "    self.gen_movie_embedding=nn.Embedding(self.num_movies, self.embedding_dim)\n",
        "\n",
        "    self.linear_stack = nn.Sequential(\n",
        "            nn.Linear(2* self.embedding_dim, num_hidden),\n",
        "            nn.ReLU(),\n",
        "            nn.Linear(num_hidden, 1),\n",
        "        )\n",
        "    \n",
        "  def forward(self, user_ids, movie_ids):\n",
        "    user_embedding=self.gen_user_embedding(user_ids)\n",
        "    movie_embedding=self.gen_movie_embedding(movie_ids)\n",
        "    embeddings=torch.cat((user_embedding, movie_embedding),1)\n",
        "    logits=self.linear_stack(embeddings)\n",
        "    \n",
        "    return logits"
      ],
      "metadata": {
        "id": "bHeIQeIJGdry"
      },
      "execution_count": 9,
      "outputs": []
    },
    {
      "cell_type": "code",
      "source": [
        "device=torch.device(\"cuda:0\" if torch.cuda.is_available() else \"cpu\")\n",
        "print(device)"
      ],
      "metadata": {
        "colab": {
          "base_uri": "https://localhost:8080/"
        },
        "id": "byXodNsGLHJn",
        "outputId": "e5d5843d-eb3e-4569-ce79-6310068cfcdf"
      },
      "execution_count": 10,
      "outputs": [
        {
          "output_type": "stream",
          "name": "stdout",
          "text": [
            "cuda:0\n"
          ]
        }
      ]
    },
    {
      "cell_type": "code",
      "source": [
        "model=Model(num_users=num_users, num_movies=num_movies, num_hidden=100, embedding_dim=embedding_dim)\n",
        "model.to(device)"
      ],
      "metadata": {
        "colab": {
          "base_uri": "https://localhost:8080/"
        },
        "id": "Djcn9FpOLSfs",
        "outputId": "a10e4041-a891-49f4-ccac-b0b0cd742b3e"
      },
      "execution_count": 11,
      "outputs": [
        {
          "output_type": "execute_result",
          "data": {
            "text/plain": [
              "Model(\n",
              "  (gen_user_embedding): Embedding(162541, 10)\n",
              "  (gen_movie_embedding): Embedding(59047, 10)\n",
              "  (linear_stack): Sequential(\n",
              "    (0): Linear(in_features=20, out_features=100, bias=True)\n",
              "    (1): ReLU()\n",
              "    (2): Linear(in_features=100, out_features=1, bias=True)\n",
              "  )\n",
              ")"
            ]
          },
          "metadata": {},
          "execution_count": 11
        }
      ]
    },
    {
      "cell_type": "code",
      "source": [
        "criterion=nn.MSELoss()\n",
        "optimizer=torch.optim.Adam(model.parameters())"
      ],
      "metadata": {
        "id": "rUGXYhYZJjD5"
      },
      "execution_count": 12,
      "outputs": []
    },
    {
      "cell_type": "code",
      "source": [
        "user_ids, movie_ids, ratings = shuffle(user_ids, movie_ids, ratings)\n",
        "user_ids=torch.from_numpy(user_ids).long()\n",
        "movie_ids=torch.from_numpy(movie_ids).long()\n",
        "ratings=torch.from_numpy(ratings).float()"
      ],
      "metadata": {
        "id": "RS97AtU3OgDC"
      },
      "execution_count": 13,
      "outputs": []
    },
    {
      "cell_type": "code",
      "source": [
        "print(user_ids.shape, movie_ids.shape, ratings.shape)\n"
      ],
      "metadata": {
        "colab": {
          "base_uri": "https://localhost:8080/"
        },
        "id": "Vgq0l9wmPFN5",
        "outputId": "eba7faad-6777-4276-a5ae-019e1c035df0"
      },
      "execution_count": 14,
      "outputs": [
        {
          "output_type": "stream",
          "name": "stdout",
          "text": [
            "torch.Size([25000095]) torch.Size([25000095]) torch.Size([25000095])\n"
          ]
        }
      ]
    },
    {
      "cell_type": "code",
      "source": [
        "train_len=int(0.8*len(ratings))"
      ],
      "metadata": {
        "id": "h35217_7PPKH"
      },
      "execution_count": 15,
      "outputs": []
    },
    {
      "cell_type": "code",
      "source": [
        "train_data=TensorDataset(user_ids[:train_len], movie_ids[:train_len], ratings[:train_len])\n",
        "test_data=TensorDataset(user_ids[train_len:], movie_ids[train_len:], ratings[train_len:])"
      ],
      "metadata": {
        "id": "bGNqyDAOPh2s"
      },
      "execution_count": 16,
      "outputs": []
    },
    {
      "cell_type": "code",
      "source": [
        "batch_size=512\n",
        "train_loader=DataLoader(dataset=train_data,\n",
        "                        batch_size=batch_size,\n",
        "                        shuffle=True)\n",
        "test_loader=DataLoader(dataset=test_data,\n",
        "                        batch_size=batch_size,\n",
        "                        shuffle=False)"
      ],
      "metadata": {
        "id": "8iUKrSvYRzRL"
      },
      "execution_count": 17,
      "outputs": []
    },
    {
      "cell_type": "code",
      "source": [
        "def train(model, criterion, optimizer, train_loader, test_loader, epochs):\n",
        "  train_losses=np.zeros(epochs)\n",
        "  test_losses=np.zeros(epochs)\n",
        "\n",
        "  for it in range(epochs):\n",
        "    t0=datetime.now()\n",
        "    train_loss=[]\n",
        "    for users, movies, targets in train_loader:\n",
        "      users, movies, targets=users.to(device), movies.to(device), targets.to(device)\n",
        "      model.zero_grad()\n",
        "      pred_ratings=model(users, movies)\n",
        "      #print(pred_ratings.shape, targets.shape)\n",
        "      loss=criterion(pred_ratings, targets.reshape(-1,1))\n",
        "      loss.backward()\n",
        "      optimizer.step()\n",
        "      train_loss.append(loss.item())\n",
        "    train_losses[it]=np.mean(train_loss)\n",
        "    test_loss=[]  \n",
        "    for users, movies, targets in test_loader:\n",
        "      users, movies, targets=users.to(device), movies.to(device), targets.to(device)\n",
        "      model.zero_grad()\n",
        "      pred_ratings=model(users, movies)\n",
        "      loss=criterion(pred_ratings, targets.reshape(-1,1))\n",
        "      test_loss.append(loss.item())\n",
        "    test_losses[it]=np.mean(test_loss)\n",
        "    print(\"train loss: \", train_losses[it], \"test loss: \", test_losses[it])\n",
        "  \n",
        "  return train_losses, test_losses \n",
        "\n"
      ],
      "metadata": {
        "id": "TpIJACGrRhl1"
      },
      "execution_count": 18,
      "outputs": []
    },
    {
      "cell_type": "code",
      "source": [
        "train(model, criterion, optimizer, train_loader, test_loader, 25 )"
      ],
      "metadata": {
        "colab": {
          "base_uri": "https://localhost:8080/"
        },
        "id": "5_1qP1J4VUwL",
        "outputId": "1cd1a29c-f625-4d1c-ccbf-c332853fbb11"
      },
      "execution_count": null,
      "outputs": [
        {
          "output_type": "stream",
          "name": "stdout",
          "text": [
            "train loss:  0.8172426153504317 test loss:  0.7527773327669257\n",
            "train loss:  0.7355174279733575 test loss:  0.727672666421123\n",
            "train loss:  0.7124829875923315 test loss:  0.7132137145892093\n",
            "train loss:  0.6993894929057384 test loss:  0.7074423608124659\n",
            "train loss:  0.6916943183891406 test loss:  0.7020368509707138\n",
            "train loss:  0.6864858571926064 test loss:  0.6983642781364265\n",
            "train loss:  0.6824935499544478 test loss:  0.6954339829510214\n",
            "train loss:  0.6793007299514195 test loss:  0.694845746554924\n",
            "train loss:  0.6766167054057192 test loss:  0.6933754195499049\n",
            "train loss:  0.6743612533436513 test loss:  0.6925880393116732\n",
            "train loss:  0.6723101818922878 test loss:  0.6921084678529497\n"
          ]
        }
      ]
    },
    {
      "cell_type": "code",
      "source": [
        "type(rating)"
      ],
      "metadata": {
        "id": "JLRjMeVmaKo0"
      },
      "execution_count": null,
      "outputs": []
    }
  ]
}