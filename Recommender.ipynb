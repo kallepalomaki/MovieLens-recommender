{
  "nbformat": 4,
  "nbformat_minor": 0,
  "metadata": {
    "colab": {
      "provenance": [],
      "authorship_tag": "ABX9TyMc2i+HJaPh0ukZsb1pisAg",
      "include_colab_link": true
    },
    "kernelspec": {
      "name": "python3",
      "display_name": "Python 3"
    },
    "language_info": {
      "name": "python"
    },
    "accelerator": "GPU",
    "gpuClass": "standard"
  },
  "cells": [
    {
      "cell_type": "markdown",
      "metadata": {
        "id": "view-in-github",
        "colab_type": "text"
      },
      "source": [
        "<a href=\"https://colab.research.google.com/github/kallepalomaki/MovieLens-recommender/blob/main/Recommender.ipynb\" target=\"_parent\"><img src=\"https://colab.research.google.com/assets/colab-badge.svg\" alt=\"Open In Colab\"/></a>"
      ]
    },
    {
      "cell_type": "code",
      "execution_count": 1,
      "metadata": {
        "id": "QZHK4AIs_Zsn"
      },
      "outputs": [],
      "source": [
        "import torch\n",
        "import torch.nn as nn\n",
        "import torch.nn.functional as F\n",
        "import numpy as np\n",
        "import pandas as pd\n",
        "import matplotlib.pyplot as plt\n",
        "from datetime import datetime\n",
        "from sklearn.utils import shuffle\n",
        "from torch.utils.data import TensorDataset, DataLoader"
      ]
    },
    {
      "cell_type": "code",
      "source": [
        "np.std(np.random.randn(1,100)*0.01)"
      ],
      "metadata": {
        "colab": {
          "base_uri": "https://localhost:8080/"
        },
        "id": "qNcC4aRF4CCv",
        "outputId": "de07be3b-b6b7-4a4e-b37a-16949d0037b4"
      },
      "execution_count": 6,
      "outputs": [
        {
          "output_type": "execute_result",
          "data": {
            "text/plain": [
              "0.009950231744386764"
            ]
          },
          "metadata": {},
          "execution_count": 6
        }
      ]
    },
    {
      "cell_type": "code",
      "source": [
        "!wget -nc https://files.grouplens.org/datasets/movielens/ml-25m.zip\n",
        "!unzip ml-25m.zip"
      ],
      "metadata": {
        "colab": {
          "base_uri": "https://localhost:8080/"
        },
        "id": "Wv4U1VjG_vix",
        "outputId": "23c7b024-1901-4515-fdf0-de37c4384745"
      },
      "execution_count": 2,
      "outputs": [
        {
          "output_type": "stream",
          "name": "stdout",
          "text": [
            "--2022-11-27 21:01:16--  https://files.grouplens.org/datasets/movielens/ml-25m.zip\n",
            "Resolving files.grouplens.org (files.grouplens.org)... 128.101.65.152\n",
            "Connecting to files.grouplens.org (files.grouplens.org)|128.101.65.152|:443... connected.\n",
            "HTTP request sent, awaiting response... 200 OK\n",
            "Length: 261978986 (250M) [application/zip]\n",
            "Saving to: ‘ml-25m.zip’\n",
            "\n",
            "ml-25m.zip          100%[===================>] 249.84M  14.0MB/s    in 20s     \n",
            "\n",
            "2022-11-27 21:01:38 (12.4 MB/s) - ‘ml-25m.zip’ saved [261978986/261978986]\n",
            "\n",
            "Archive:  ml-25m.zip\n",
            "   creating: ml-25m/\n",
            "  inflating: ml-25m/tags.csv         \n",
            "  inflating: ml-25m/links.csv        \n",
            "  inflating: ml-25m/README.txt       \n",
            "  inflating: ml-25m/ratings.csv      \n",
            "  inflating: ml-25m/genome-tags.csv  \n",
            "  inflating: ml-25m/genome-scores.csv  \n",
            "  inflating: ml-25m/movies.csv       \n"
          ]
        }
      ]
    },
    {
      "cell_type": "code",
      "source": [
        "df=pd.read_csv('ml-25m/ratings.csv')\n",
        "df.head()"
      ],
      "metadata": {
        "colab": {
          "base_uri": "https://localhost:8080/",
          "height": 206
        },
        "id": "9b-fksxsAssH",
        "outputId": "a9564a1a-5ca8-4267-f406-a4f39c07640e"
      },
      "execution_count": 3,
      "outputs": [
        {
          "output_type": "execute_result",
          "data": {
            "text/plain": [
              "   userId  movieId  rating   timestamp\n",
              "0       1      296     5.0  1147880044\n",
              "1       1      306     3.5  1147868817\n",
              "2       1      307     5.0  1147868828\n",
              "3       1      665     5.0  1147878820\n",
              "4       1      899     3.5  1147868510"
            ],
            "text/html": [
              "\n",
              "  <div id=\"df-4db41ed8-9431-4679-9e9e-d869f352bc5d\">\n",
              "    <div class=\"colab-df-container\">\n",
              "      <div>\n",
              "<style scoped>\n",
              "    .dataframe tbody tr th:only-of-type {\n",
              "        vertical-align: middle;\n",
              "    }\n",
              "\n",
              "    .dataframe tbody tr th {\n",
              "        vertical-align: top;\n",
              "    }\n",
              "\n",
              "    .dataframe thead th {\n",
              "        text-align: right;\n",
              "    }\n",
              "</style>\n",
              "<table border=\"1\" class=\"dataframe\">\n",
              "  <thead>\n",
              "    <tr style=\"text-align: right;\">\n",
              "      <th></th>\n",
              "      <th>userId</th>\n",
              "      <th>movieId</th>\n",
              "      <th>rating</th>\n",
              "      <th>timestamp</th>\n",
              "    </tr>\n",
              "  </thead>\n",
              "  <tbody>\n",
              "    <tr>\n",
              "      <th>0</th>\n",
              "      <td>1</td>\n",
              "      <td>296</td>\n",
              "      <td>5.0</td>\n",
              "      <td>1147880044</td>\n",
              "    </tr>\n",
              "    <tr>\n",
              "      <th>1</th>\n",
              "      <td>1</td>\n",
              "      <td>306</td>\n",
              "      <td>3.5</td>\n",
              "      <td>1147868817</td>\n",
              "    </tr>\n",
              "    <tr>\n",
              "      <th>2</th>\n",
              "      <td>1</td>\n",
              "      <td>307</td>\n",
              "      <td>5.0</td>\n",
              "      <td>1147868828</td>\n",
              "    </tr>\n",
              "    <tr>\n",
              "      <th>3</th>\n",
              "      <td>1</td>\n",
              "      <td>665</td>\n",
              "      <td>5.0</td>\n",
              "      <td>1147878820</td>\n",
              "    </tr>\n",
              "    <tr>\n",
              "      <th>4</th>\n",
              "      <td>1</td>\n",
              "      <td>899</td>\n",
              "      <td>3.5</td>\n",
              "      <td>1147868510</td>\n",
              "    </tr>\n",
              "  </tbody>\n",
              "</table>\n",
              "</div>\n",
              "      <button class=\"colab-df-convert\" onclick=\"convertToInteractive('df-4db41ed8-9431-4679-9e9e-d869f352bc5d')\"\n",
              "              title=\"Convert this dataframe to an interactive table.\"\n",
              "              style=\"display:none;\">\n",
              "        \n",
              "  <svg xmlns=\"http://www.w3.org/2000/svg\" height=\"24px\"viewBox=\"0 0 24 24\"\n",
              "       width=\"24px\">\n",
              "    <path d=\"M0 0h24v24H0V0z\" fill=\"none\"/>\n",
              "    <path d=\"M18.56 5.44l.94 2.06.94-2.06 2.06-.94-2.06-.94-.94-2.06-.94 2.06-2.06.94zm-11 1L8.5 8.5l.94-2.06 2.06-.94-2.06-.94L8.5 2.5l-.94 2.06-2.06.94zm10 10l.94 2.06.94-2.06 2.06-.94-2.06-.94-.94-2.06-.94 2.06-2.06.94z\"/><path d=\"M17.41 7.96l-1.37-1.37c-.4-.4-.92-.59-1.43-.59-.52 0-1.04.2-1.43.59L10.3 9.45l-7.72 7.72c-.78.78-.78 2.05 0 2.83L4 21.41c.39.39.9.59 1.41.59.51 0 1.02-.2 1.41-.59l7.78-7.78 2.81-2.81c.8-.78.8-2.07 0-2.86zM5.41 20L4 18.59l7.72-7.72 1.47 1.35L5.41 20z\"/>\n",
              "  </svg>\n",
              "      </button>\n",
              "      \n",
              "  <style>\n",
              "    .colab-df-container {\n",
              "      display:flex;\n",
              "      flex-wrap:wrap;\n",
              "      gap: 12px;\n",
              "    }\n",
              "\n",
              "    .colab-df-convert {\n",
              "      background-color: #E8F0FE;\n",
              "      border: none;\n",
              "      border-radius: 50%;\n",
              "      cursor: pointer;\n",
              "      display: none;\n",
              "      fill: #1967D2;\n",
              "      height: 32px;\n",
              "      padding: 0 0 0 0;\n",
              "      width: 32px;\n",
              "    }\n",
              "\n",
              "    .colab-df-convert:hover {\n",
              "      background-color: #E2EBFA;\n",
              "      box-shadow: 0px 1px 2px rgba(60, 64, 67, 0.3), 0px 1px 3px 1px rgba(60, 64, 67, 0.15);\n",
              "      fill: #174EA6;\n",
              "    }\n",
              "\n",
              "    [theme=dark] .colab-df-convert {\n",
              "      background-color: #3B4455;\n",
              "      fill: #D2E3FC;\n",
              "    }\n",
              "\n",
              "    [theme=dark] .colab-df-convert:hover {\n",
              "      background-color: #434B5C;\n",
              "      box-shadow: 0px 1px 3px 1px rgba(0, 0, 0, 0.15);\n",
              "      filter: drop-shadow(0px 1px 2px rgba(0, 0, 0, 0.3));\n",
              "      fill: #FFFFFF;\n",
              "    }\n",
              "  </style>\n",
              "\n",
              "      <script>\n",
              "        const buttonEl =\n",
              "          document.querySelector('#df-4db41ed8-9431-4679-9e9e-d869f352bc5d button.colab-df-convert');\n",
              "        buttonEl.style.display =\n",
              "          google.colab.kernel.accessAllowed ? 'block' : 'none';\n",
              "\n",
              "        async function convertToInteractive(key) {\n",
              "          const element = document.querySelector('#df-4db41ed8-9431-4679-9e9e-d869f352bc5d');\n",
              "          const dataTable =\n",
              "            await google.colab.kernel.invokeFunction('convertToInteractive',\n",
              "                                                     [key], {});\n",
              "          if (!dataTable) return;\n",
              "\n",
              "          const docLinkHtml = 'Like what you see? Visit the ' +\n",
              "            '<a target=\"_blank\" href=https://colab.research.google.com/notebooks/data_table.ipynb>data table notebook</a>'\n",
              "            + ' to learn more about interactive tables.';\n",
              "          element.innerHTML = '';\n",
              "          dataTable['output_type'] = 'display_data';\n",
              "          await google.colab.output.renderOutput(dataTable, element);\n",
              "          const docLink = document.createElement('div');\n",
              "          docLink.innerHTML = docLinkHtml;\n",
              "          element.appendChild(docLink);\n",
              "        }\n",
              "      </script>\n",
              "    </div>\n",
              "  </div>\n",
              "  "
            ]
          },
          "metadata": {},
          "execution_count": 3
        }
      ]
    },
    {
      "cell_type": "code",
      "source": [
        "df.userId=pd.Categorical(df.userId)\n",
        "df.userId=df.userId.cat.codes\n",
        "user_ids=df.userId.values"
      ],
      "metadata": {
        "id": "BGIWR13-BLG4"
      },
      "execution_count": 4,
      "outputs": []
    },
    {
      "cell_type": "code",
      "source": [
        "df.movieId=pd.Categorical(df.movieId)\n",
        "df.movieId=df.movieId.cat.codes\n",
        "movie_ids=df.movieId.values"
      ],
      "metadata": {
        "id": "dUnI__8ADH2c"
      },
      "execution_count": 5,
      "outputs": []
    },
    {
      "cell_type": "code",
      "source": [
        "ratings=df.rating.values\n",
        "# keep rmse scaling but center\n",
        "rating_mean=ratings.mean()\n",
        "ratings-=rating_mean\n",
        "np.mean(ratings)\n"
      ],
      "metadata": {
        "colab": {
          "base_uri": "https://localhost:8080/"
        },
        "id": "7cCt2xoyDrGj",
        "outputId": "e4e49a14-6328-41a2-acfe-b6d43c38c8f7"
      },
      "execution_count": 6,
      "outputs": [
        {
          "output_type": "execute_result",
          "data": {
            "text/plain": [
              "-3.427872505066647e-17"
            ]
          },
          "metadata": {},
          "execution_count": 6
        }
      ]
    },
    {
      "cell_type": "code",
      "source": [
        "num_users=len(set(user_ids))\n",
        "num_movies=len(set(movie_ids))"
      ],
      "metadata": {
        "id": "LSXuJ9MTFvrs"
      },
      "execution_count": 7,
      "outputs": []
    },
    {
      "cell_type": "code",
      "source": [
        "# Embedding dim\n",
        "embedding_dim=10"
      ],
      "metadata": {
        "id": "Cw-_6O-KGTar"
      },
      "execution_count": 8,
      "outputs": []
    },
    {
      "cell_type": "code",
      "source": [
        "class Model(nn.Module):\n",
        "  def __init__(self, num_users, num_movies, embedding_dim, num_hidden=512):\n",
        "    super(Model, self).__init__()\n",
        "    self.num_users=num_users\n",
        "    self.num_movies=num_movies\n",
        "    self.embedding_dim=embedding_dim\n",
        "\n",
        "    self.gen_user_embedding=nn.Embedding(self.num_users, self.embedding_dim)\n",
        "    self.gen_movie_embedding=nn.Embedding(self.num_movies, self.embedding_dim)\n",
        "    nn.init.normal_(self.gen_user_embedding.weight, 0.0 , 0.01)\n",
        "    nn.init.normal_(self.gen_movie_embedding.weight, 0.0 , 0.01)\n",
        "    self.linear_stack = nn.Sequential(\n",
        "            nn.Linear(2* self.embedding_dim, num_hidden),\n",
        "            nn.ReLU(),\n",
        "            nn.Linear(num_hidden, 1),\n",
        "        )\n",
        "    \n",
        "  def forward(self, user_ids, movie_ids):\n",
        "    user_embedding=self.gen_user_embedding(user_ids)\n",
        "    movie_embedding=self.gen_movie_embedding(movie_ids)\n",
        "    embeddings=torch.cat((user_embedding, movie_embedding),1)\n",
        "    logits=self.linear_stack(embeddings)\n",
        "    \n",
        "    return logits"
      ],
      "metadata": {
        "id": "bHeIQeIJGdry"
      },
      "execution_count": 15,
      "outputs": []
    },
    {
      "cell_type": "code",
      "source": [
        "device=torch.device(\"cuda:0\" if torch.cuda.is_available() else \"cpu\")\n",
        "print(device)"
      ],
      "metadata": {
        "colab": {
          "base_uri": "https://localhost:8080/"
        },
        "id": "byXodNsGLHJn",
        "outputId": "3080357a-26e8-4744-e28e-454faadfa6ac"
      },
      "execution_count": 16,
      "outputs": [
        {
          "output_type": "stream",
          "name": "stdout",
          "text": [
            "cuda:0\n"
          ]
        }
      ]
    },
    {
      "cell_type": "code",
      "source": [
        "model=Model(num_users=num_users, num_movies=num_movies, num_hidden=512, embedding_dim=embedding_dim)\n",
        "model.to(device)"
      ],
      "metadata": {
        "colab": {
          "base_uri": "https://localhost:8080/"
        },
        "id": "Djcn9FpOLSfs",
        "outputId": "f87d4f5e-afa2-475f-e7f4-ba155b01df17"
      },
      "execution_count": 17,
      "outputs": [
        {
          "output_type": "execute_result",
          "data": {
            "text/plain": [
              "Model(\n",
              "  (gen_user_embedding): Embedding(162541, 10)\n",
              "  (gen_movie_embedding): Embedding(59047, 10)\n",
              "  (linear_stack): Sequential(\n",
              "    (0): Linear(in_features=20, out_features=512, bias=True)\n",
              "    (1): ReLU()\n",
              "    (2): Linear(in_features=512, out_features=1, bias=True)\n",
              "  )\n",
              ")"
            ]
          },
          "metadata": {},
          "execution_count": 17
        }
      ]
    },
    {
      "cell_type": "code",
      "source": [
        "criterion=nn.MSELoss()\n",
        "optimizer=torch.optim.Adam(model.parameters())"
      ],
      "metadata": {
        "id": "rUGXYhYZJjD5"
      },
      "execution_count": 18,
      "outputs": []
    },
    {
      "cell_type": "code",
      "source": [
        "user_ids, movie_ids, ratings = shuffle(user_ids, movie_ids, ratings)\n",
        "user_ids=torch.from_numpy(user_ids).long()\n",
        "movie_ids=torch.from_numpy(movie_ids).long()\n",
        "ratings=torch.from_numpy(ratings).float()"
      ],
      "metadata": {
        "id": "RS97AtU3OgDC"
      },
      "execution_count": 19,
      "outputs": []
    },
    {
      "cell_type": "code",
      "source": [
        "print(user_ids.shape, movie_ids.shape, ratings.shape)\n"
      ],
      "metadata": {
        "colab": {
          "base_uri": "https://localhost:8080/"
        },
        "id": "Vgq0l9wmPFN5",
        "outputId": "9601106c-3715-4f74-8409-c1d210c47d64"
      },
      "execution_count": 20,
      "outputs": [
        {
          "output_type": "stream",
          "name": "stdout",
          "text": [
            "torch.Size([25000095]) torch.Size([25000095]) torch.Size([25000095])\n"
          ]
        }
      ]
    },
    {
      "cell_type": "code",
      "source": [
        "train_len=int(0.8*len(ratings))"
      ],
      "metadata": {
        "id": "h35217_7PPKH"
      },
      "execution_count": 21,
      "outputs": []
    },
    {
      "cell_type": "code",
      "source": [
        "train_data=TensorDataset(user_ids[:train_len], movie_ids[:train_len], ratings[:train_len])\n",
        "test_data=TensorDataset(user_ids[train_len:], movie_ids[train_len:], ratings[train_len:])"
      ],
      "metadata": {
        "id": "bGNqyDAOPh2s"
      },
      "execution_count": 22,
      "outputs": []
    },
    {
      "cell_type": "code",
      "source": [
        "batch_size=512\n",
        "train_loader=DataLoader(dataset=train_data,\n",
        "                        batch_size=batch_size,\n",
        "                        shuffle=True)\n",
        "test_loader=DataLoader(dataset=test_data,\n",
        "                        batch_size=batch_size,\n",
        "                        shuffle=False)"
      ],
      "metadata": {
        "id": "8iUKrSvYRzRL"
      },
      "execution_count": 23,
      "outputs": []
    },
    {
      "cell_type": "code",
      "source": [
        "def train(model, criterion, optimizer, train_loader, test_loader, epochs):\n",
        "  train_losses=np.zeros(epochs)\n",
        "  test_losses=np.zeros(epochs)\n",
        "\n",
        "  for it in range(epochs):\n",
        "    t0=datetime.now()\n",
        "    train_loss=[]\n",
        "    for users, movies, targets in train_loader:\n",
        "      users, movies, targets=users.to(device), movies.to(device), targets.to(device)\n",
        "      model.zero_grad()\n",
        "      pred_ratings=model(users, movies)\n",
        "      #print(pred_ratings.shape, targets.shape)\n",
        "      loss=criterion(pred_ratings, targets.reshape(-1,1))\n",
        "      loss.backward()\n",
        "      optimizer.step()\n",
        "      train_loss.append(loss.item())\n",
        "    train_losses[it]=np.mean(train_loss)\n",
        "    test_loss=[]  \n",
        "    for users, movies, targets in test_loader:\n",
        "      users, movies, targets=users.to(device), movies.to(device), targets.to(device)\n",
        "      model.zero_grad()\n",
        "      pred_ratings=model(users, movies)\n",
        "      loss=criterion(pred_ratings, targets.reshape(-1,1))\n",
        "      test_loss.append(loss.item())\n",
        "    test_losses[it]=np.mean(test_loss)\n",
        "    print(\"iteration: \", it, \"/\", epochs, \" train loss: \", train_losses[it], \"test loss: \", test_losses[it])\n",
        "  \n",
        "  return train_losses, test_losses \n",
        "\n"
      ],
      "metadata": {
        "id": "TpIJACGrRhl1"
      },
      "execution_count": 24,
      "outputs": []
    },
    {
      "cell_type": "code",
      "source": [
        "train_losses, test_losses=train(model, criterion, optimizer, train_loader, test_loader, 25 )"
      ],
      "metadata": {
        "colab": {
          "base_uri": "https://localhost:8080/"
        },
        "id": "5_1qP1J4VUwL",
        "outputId": "3ab153a1-cd0f-417d-ff7a-33b0d2e12d71"
      },
      "execution_count": null,
      "outputs": [
        {
          "output_type": "stream",
          "name": "stdout",
          "text": [
            "iteration:  0 / 25  train loss:  0.7259126937125705 test loss:  0.6826610095141341\n",
            "iteration:  1 / 25  train loss:  0.6511603831127944 test loss:  0.6472043442922661\n",
            "iteration:  2 / 25  train loss:  0.6155260495563606 test loss:  0.6342818051509478\n"
          ]
        }
      ]
    },
    {
      "cell_type": "code",
      "source": [
        "plt.plot(train_losses)\n",
        "plt.plot(test_losses)"
      ],
      "metadata": {
        "id": "JLRjMeVmaKo0"
      },
      "execution_count": null,
      "outputs": []
    }
  ]
}